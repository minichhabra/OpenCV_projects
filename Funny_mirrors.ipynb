{
 "cells": [
  {
   "cell_type": "code",
   "execution_count": 1,
   "metadata": {},
   "outputs": [],
   "source": [
    "import cv2 as cv\n",
    "import numpy as np\n",
    "import math\n",
    "from vcam import vcam,meshGen"
   ]
  },
  {
   "cell_type": "code",
   "execution_count": 10,
   "metadata": {},
   "outputs": [],
   "source": [
    "cap=cv.VideoCapture(0)\n",
    "while(1):\n",
    "    ret,frame=cap.read()\n",
    "    frame=cv.flip(frame,1)\n",
    "    H,W=frame.shape[:2]\n",
    "    c1=vcam(H=H,W=W)\n",
    "    plane=meshGen(H,W)\n",
    "    \n",
    "    plane.Z += 20*np.exp(-0.5*((plane.X*1.0/plane.W)/0.1)**2)/(0.1*np.sqrt(2*np.pi))\n",
    "    pts3d = plane.getPlane()\n",
    "\n",
    "    pts2d = c1.project(pts3d)\n",
    "    map_x,map_y = c1.getMaps(pts2d)\n",
    "\n",
    "    output = cv.remap(frame,map_x,map_y,interpolation=cv.INTER_LINEAR)\n",
    "    cv.imshow('image',frame)\n",
    "    cv.imshow('output',output)\n",
    "    if cv.waitKey(1) == ord('q'):\n",
    "        break\n",
    "cap.release()\n",
    "cv.destroyAllWindows()"
   ]
  },
  {
   "cell_type": "code",
   "execution_count": 9,
   "metadata": {},
   "outputs": [],
   "source": []
  },
  {
   "cell_type": "code",
   "execution_count": null,
   "metadata": {},
   "outputs": [],
   "source": []
  }
 ],
 "metadata": {
  "kernelspec": {
   "display_name": "Python 3",
   "language": "python",
   "name": "python3"
  },
  "language_info": {
   "codemirror_mode": {
    "name": "ipython",
    "version": 3
   },
   "file_extension": ".py",
   "mimetype": "text/x-python",
   "name": "python",
   "nbconvert_exporter": "python",
   "pygments_lexer": "ipython3",
   "version": "3.6.8"
  }
 },
 "nbformat": 4,
 "nbformat_minor": 2
}
