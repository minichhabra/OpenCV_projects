{
 "cells": [
  {
   "cell_type": "code",
   "execution_count": 26,
   "metadata": {},
   "outputs": [],
   "source": [
    "import cv2\n",
    "import numpy as np\n",
    "import dlib\n",
    "\n",
    "cap = cv2.VideoCapture(0)\n",
    "img=cv2.imread('/home/mini/Downloads/glass.png')\n",
    "gh,gw=img.shape[:2]\n",
    "imggray = cv2.cvtColor(img,cv2.COLOR_BGR2GRAY)\n",
    "ret, mask = cv2.threshold(imggray, 200, 255, cv2.THRESH_BINARY_INV)\n",
    "mask_inv = cv2.bitwise_not(mask)\n",
    "detector = dlib.get_frontal_face_detector()\n",
    "predictor = dlib.shape_predictor(\"shape_predictor_68_face_landmarks.dat\")\n",
    "\n",
    "while True:\n",
    "    _, frame = cap.read()\n",
    "    frame=cv2.flip(frame,1)\n",
    "    gray = cv2.cvtColor(frame, cv2.COLOR_BGR2GRAY)\n",
    "\n",
    "    faces = detector(gray)\n",
    "    for face in faces:\n",
    "\n",
    "        landmarks = predictor(gray, face)\n",
    "    \n",
    "        for n in range(0, 68):\n",
    "            x = landmarks.part(n).x\n",
    "            y = landmarks.part(n).y\n",
    "            glassw=abs(landmarks.part(16).x-landmarks.part(1).x)\n",
    "            glassh=int(glassw*gh/gw)\n",
    "            glass=cv2.resize(img,(glassw,glassh))#interpolation=cv2.INTER_AREA)\n",
    "            mask=cv2.resize(mask,(glassw,glassh))#interpolation=cv2.INTER_AREA)\n",
    "            mask_inv=cv2.resize(mask_inv,(glassw,glassh))#interpolation=cv2.INTER_AREA)\n",
    "            \n",
    "            y1 = int(landmarks.part(24).y)\n",
    "            y2 = int(y1 + glassh)\n",
    "            x1 = int(landmarks.part(27).x - (glassw/2))\n",
    "            x2 = int(x1 + glassw)\n",
    "            roi1 = frame[y1:y2, x1:x2]\n",
    "            roi_bg = cv2.bitwise_and(roi1,roi1,mask = mask_inv)\n",
    "            roi_fg = cv2.bitwise_and(glass,glass,mask = mask)\n",
    "            frame[y1:y2, x1:x2] = cv2.add(roi_bg, roi_fg)\n",
    "    cv2.imshow(\"Frame\", frame)\n",
    "\n",
    "    if cv2.waitKey(1) == ord('q'):\n",
    "        break\n",
    "cv2.destroyAllWindows()\n",
    "cap.release()"
   ]
  },
  {
   "cell_type": "code",
   "execution_count": 25,
   "metadata": {},
   "outputs": [],
   "source": [
    "cv2.destroyAllWindows()\n",
    "cap.release()"
   ]
  },
  {
   "cell_type": "code",
   "execution_count": null,
   "metadata": {},
   "outputs": [],
   "source": []
  }
 ],
 "metadata": {
  "kernelspec": {
   "display_name": "Python 3",
   "language": "python",
   "name": "python3"
  },
  "language_info": {
   "codemirror_mode": {
    "name": "ipython",
    "version": 3
   },
   "file_extension": ".py",
   "mimetype": "text/x-python",
   "name": "python",
   "nbconvert_exporter": "python",
   "pygments_lexer": "ipython3",
   "version": "3.6.8"
  }
 },
 "nbformat": 4,
 "nbformat_minor": 2
}
