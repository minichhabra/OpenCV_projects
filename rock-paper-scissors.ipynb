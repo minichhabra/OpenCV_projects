{
 "cells": [
  {
   "cell_type": "code",
   "execution_count": 1,
   "metadata": {},
   "outputs": [
    {
     "name": "stdout",
     "output_type": "stream",
     "text": [
      "{'rock': 0, 'paper': 1, 'scissor': 2}\n",
      "['rock', 'paper', 'scissor']\n",
      "[0, 1, 2]\n"
     ]
    }
   ],
   "source": [
    "import cv2,os\n",
    "\n",
    "data_path='/home/mini/rock-paper-scissor-vision/training_data/raw/train'\n",
    "categories=os.listdir(data_path)\n",
    "labels=[i for i in range(len(categories))]\n",
    "\n",
    "label_dict=dict(zip(categories,labels))\n",
    "\n",
    "print(label_dict)\n",
    "print(categories)\n",
    "print(labels)"
   ]
  },
  {
   "cell_type": "code",
   "execution_count": 2,
   "metadata": {},
   "outputs": [],
   "source": [
    "img_size=100\n",
    "data=[]\n",
    "target=[]\n",
    "\n",
    "\n",
    "for category in categories:\n",
    "    folder_path=os.path.join(data_path,category)\n",
    "    img_names=os.listdir(folder_path)\n",
    "        \n",
    "    for img_name in img_names:\n",
    "        img_path=os.path.join(folder_path,img_name)\n",
    "        img=cv2.imread(img_path)\n",
    "\n",
    "        try:\n",
    "            gray=cv2.cvtColor(img,cv2.COLOR_BGR2GRAY)           \n",
    "            #Coverting the image into gray scale\n",
    "            resized=cv2.resize(gray,(img_size,img_size))\n",
    "            #resizing the gray scale into 100x100, since we need a fixed common size for all the images in the dataset\n",
    "            data.append(resized)\n",
    "            target.append(label_dict[category])\n",
    "            #appending the image and the label(categorized) into the list (dataset)\n",
    "\n",
    "        except Exception as e:\n",
    "            print('Exception:',e)\n",
    "            #if any exception rasied, the exception will be printed here. And pass to the next image"
   ]
  },
  {
   "cell_type": "code",
   "execution_count": 3,
   "metadata": {},
   "outputs": [
    {
     "name": "stderr",
     "output_type": "stream",
     "text": [
      "Using TensorFlow backend.\n"
     ]
    }
   ],
   "source": [
    "import numpy as np\n",
    "\n",
    "data=np.array(data)/255.0\n",
    "data=np.reshape(data,(data.shape[0],img_size,img_size,1))\n",
    "target=np.array(target)\n",
    "\n",
    "from keras.utils import np_utils\n",
    "\n",
    "new_target=np_utils.to_categorical(target)\n",
    "target=new_target"
   ]
  },
  {
   "cell_type": "code",
   "execution_count": 4,
   "metadata": {},
   "outputs": [],
   "source": [
    "from keras.models import Sequential\n",
    "from keras.layers import Dense,Activation,Flatten,Dropout\n",
    "from keras.layers import Conv2D,MaxPooling2D\n",
    "from keras.callbacks import ModelCheckpoint\n",
    "\n",
    "model=Sequential()\n",
    "\n",
    "model.add(Conv2D(200,(3,3),input_shape=data.shape[1:]))\n",
    "model.add(Activation('relu'))\n",
    "model.add(MaxPooling2D(pool_size=(2,2)))\n",
    "#The first CNN layer followed by Relu and MaxPooling layers\n",
    "\n",
    "model.add(Conv2D(100,(3,3)))\n",
    "model.add(Activation('relu'))\n",
    "model.add(MaxPooling2D(pool_size=(2,2)))\n",
    "#The second convolution layer followed by Relu and MaxPooling layers\n",
    "\n",
    "model.add(Flatten())\n",
    "model.add(Dropout(0.5))\n",
    "#Flatten layer to stack the output convolutions from second convolution layer\n",
    "#model.add(Dense(50,activation='relu'))\n",
    "#Dense layer of 64 neurons\n",
    "model.add(Dense(3,activation='softmax'))\n",
    "#The Final layer with two outputs for two categories\n",
    "\n",
    "model.compile(loss='categorical_crossentropy',optimizer='adam',metrics=['accuracy'])"
   ]
  },
  {
   "cell_type": "code",
   "execution_count": 5,
   "metadata": {},
   "outputs": [],
   "source": [
    "from sklearn.model_selection import train_test_split\n",
    "\n",
    "train_data,test_data,train_target,test_target=train_test_split(data,target,test_size=0.1)"
   ]
  },
  {
   "cell_type": "code",
   "execution_count": 6,
   "metadata": {},
   "outputs": [
    {
     "name": "stdout",
     "output_type": "stream",
     "text": [
      "Train on 388 samples, validate on 98 samples\n",
      "Epoch 1/5\n",
      "388/388 [==============================] - 14s 37ms/step - loss: 0.9459 - accuracy: 0.5696 - val_loss: 0.6358 - val_accuracy: 0.7755\n",
      "Epoch 2/5\n",
      "388/388 [==============================] - 13s 33ms/step - loss: 0.4584 - accuracy: 0.8402 - val_loss: 0.2758 - val_accuracy: 0.9184\n",
      "Epoch 3/5\n",
      "388/388 [==============================] - 13s 33ms/step - loss: 0.2059 - accuracy: 0.9356 - val_loss: 0.0804 - val_accuracy: 0.9898\n",
      "Epoch 4/5\n",
      "388/388 [==============================] - 13s 33ms/step - loss: 0.0939 - accuracy: 0.9768 - val_loss: 0.0524 - val_accuracy: 0.9796\n",
      "Epoch 5/5\n",
      "388/388 [==============================] - 13s 33ms/step - loss: 0.0153 - accuracy: 0.9974 - val_loss: 0.0096 - val_accuracy: 1.0000\n"
     ]
    }
   ],
   "source": [
    "checkpoint = ModelCheckpoint('model-{epoch:03d}.model',monitor='val_loss',verbose=0,save_best_only=True,mode='auto')\n",
    "history=model.fit(train_data,train_target,epochs=5,callbacks=[checkpoint],validation_split=0.2)"
   ]
  },
  {
   "cell_type": "code",
   "execution_count": 7,
   "metadata": {},
   "outputs": [
    {
     "name": "stdout",
     "output_type": "stream",
     "text": [
      "54/54 [==============================] - 0s 9ms/step\n",
      "[0.03909760630793042, 0.9814814925193787]\n"
     ]
    }
   ],
   "source": [
    "print(model.evaluate(test_data,test_target))"
   ]
  },
  {
   "cell_type": "code",
   "execution_count": 8,
   "metadata": {},
   "outputs": [],
   "source": [
    "labels_dict={0:'ROCK',1:'PAPER',2:'SCISSOR'}"
   ]
  },
  {
   "cell_type": "code",
   "execution_count": 22,
   "metadata": {},
   "outputs": [],
   "source": [
    "import cv2 \n",
    "import constant\n",
    "cap=cv2.VideoCapture(0)\n",
    "\n",
    "from random import random\n",
    "c=random()\n",
    "\n",
    "while(1):\n",
    "    ret,frame=cap.read()\n",
    "    frame=cv2.flip(frame,1)\n",
    "    src=frame[100:200,100:200]\n",
    "    cv2.rectangle(frame,(100,100),(200,200),(0,255,0),0)\n",
    "    gray = cv2.cvtColor(src, cv2.COLOR_BGR2GRAY) # convert to grayscale\n",
    "    blur = cv2.blur(gray, (5, 5)) # blur the image\n",
    "    ret, thresh = cv2.threshold(blur, 140, 255, cv2.THRESH_BINARY)\n",
    "    \n",
    "    reshaped=np.reshape(thresh,(1,100,100,1))\n",
    "    result=model.predict(reshaped)\n",
    "    label=np.argmax(result,axis=1)[0]\n",
    "    \n",
    "   \n",
    "    if c<0.34:\n",
    "        computer='rock'\n",
    "        img=cv2.imread('/home/mini/Downloads/rock.jpg')\n",
    "        img=cv2.resize(img,(200,200))\n",
    "    elif c<=0.67:\n",
    "        computer='paper'\n",
    "        img=cv2.imread('/home/mini/Downloads/paper.jpeg')\n",
    "        img=cv2.resize(img,(200,200))\n",
    "    else:\n",
    "        computer='scissors'\n",
    "        img=cv2.imread('/home/mini/Downloads/scissors.jpeg')\n",
    "        img=cv2.resize(img,(200,200))\n",
    "    cv2.putText(frame,computer,(0,100),cv2.FONT_HERSHEY_SIMPLEX,2,(0,0,255),3,cv2.LINE_AA)\n",
    "   \n",
    "    \n",
    "    if computer == 'scissors':\n",
    "        if label==0:\n",
    "            cv2.putText(frame,'User wins' ,(100,100),cv2.FONT_HERSHEY_SIMPLEX,2,(0,0,255),3,cv2.LINE_AA)\n",
    "            frame[280:500,300:500]=img\n",
    "        elif label==1:\n",
    "            cv2.putText(frame,'Computer wins' ,(100,100),cv2.FONT_HERSHEY_SIMPLEX,2,(0,0,255),3,cv2.LINE_AA)\n",
    "            frame[280:500,300:500]=img\n",
    "        else:\n",
    "            cv2.putText(frame,'Tie' ,(100,100),cv2.FONT_HERSHEY_SIMPLEX,2,(0,0,255),3,cv2.LINE_AA)\n",
    "            frame[280:500,300:500]=img\n",
    "                \n",
    "    if computer == 'paper':\n",
    "        if label==0:\n",
    "            cv2.putText(frame,'Computer wins' ,(200,100),cv2.FONT_HERSHEY_SIMPLEX,2,(0,0,255),3,cv2.LINE_AA)\n",
    "        elif label==1:\n",
    "            cv2.putText(frame,'Tie' ,(200,100),cv2.FONT_HERSHEY_SIMPLEX,2,(0,0,255),3,cv2.LINE_AA)\n",
    "        else:\n",
    "             cv2.putText(frame,'User wins' ,(200,100),cv2.FONT_HERSHEY_SIMPLEX,2,(0,0,255),3,cv2.LINE_AA)\n",
    "                \n",
    "    if computer == 'rock':\n",
    "        if label==0:\n",
    "            cv2.putText(frame,'Tie' ,(200,100),cv2.FONT_HERSHEY_SIMPLEX,2,(0,0,255),3,cv2.LINE_AA)\n",
    "        elif label==1:\n",
    "            cv2.putText(frame,'User wins' ,(200,100),cv2.FONT_HERSHEY_SIMPLEX,2,(0,0,255),3,cv2.LINE_AA)\n",
    "        else:\n",
    "             cv2.putText(frame,'Computer wins' ,(200),cv2.FONT_HERSHEY_SIMPLEX,2,(0,0,255),3,cv2.LINE_AA)\n",
    "    \n",
    "            \n",
    "    \n",
    "    if label==0:\n",
    "        cv2.putText(frame,'rock' ,(0,50),cv2.FONT_HERSHEY_SIMPLEX,2,(0,0,255),3,cv2.LINE_AA)\n",
    "    elif label==1:\n",
    "        cv2.putText(frame,'paper' ,(0,50),cv2.FONT_HERSHEY_SIMPLEX,2,(0,0,255),3,cv2.LINE_AA)\n",
    "    elif label==2:\n",
    "        cv2.putText(frame,'scissor' ,(0,50),cv2.FONT_HERSHEY_SIMPLEX,2,(0,0,255),3,cv2.LINE_AA)\n",
    "    else:\n",
    "        cv2.putText(frame,'something' ,(0,50),cv2.FONT_HERSHEY_SIMPLEX,2,(0,0,255),3,cv2.LINE_AA)\n",
    "        \n",
    "    cv2.imshow('frame',frame)\n",
    "    cv2.imshow('thresh',thresh)\n",
    "    cv2.imshow('src',src)\n",
    "    if cv2.waitKey(1) == ord('q'):\n",
    "        break\n",
    "cap.release()\n",
    "cv2.destroyAllWindows()\n",
    "    "
   ]
  },
  {
   "cell_type": "code",
   "execution_count": 10,
   "metadata": {},
   "outputs": [],
   "source": [
    "cap.release()"
   ]
  },
  {
   "cell_type": "code",
   "execution_count": 18,
   "metadata": {},
   "outputs": [
    {
     "name": "stdout",
     "output_type": "stream",
     "text": [
      "0.285331013460153\n"
     ]
    }
   ],
   "source": [
    "from random import random\n",
    "print(random())"
   ]
  },
  {
   "cell_type": "code",
   "execution_count": null,
   "metadata": {},
   "outputs": [],
   "source": []
  }
 ],
 "metadata": {
  "kernelspec": {
   "display_name": "Python 3",
   "language": "python",
   "name": "python3"
  },
  "language_info": {
   "codemirror_mode": {
    "name": "ipython",
    "version": 3
   },
   "file_extension": ".py",
   "mimetype": "text/x-python",
   "name": "python",
   "nbconvert_exporter": "python",
   "pygments_lexer": "ipython3",
   "version": "3.6.8"
  }
 },
 "nbformat": 4,
 "nbformat_minor": 2
}
